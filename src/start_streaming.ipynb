{
 "cells": [
  {
   "cell_type": "code",
   "execution_count": null,
   "metadata": {
    "application/vnd.databricks.v1+cell": {
     "cellMetadata": {
      "byteLimit": 2048000,
      "rowLimit": 10000
     },
     "inputWidgets": {},
     "nuid": "e7e26696-ac9e-4efc-9241-c26c10401bb2",
     "showTitle": false,
     "title": ""
    }
   },
   "outputs": [],
   "source": [
    "from StreamLoader import KafkaStreamLoader"
   ]
  },
  {
   "cell_type": "markdown",
   "metadata": {
    "application/vnd.databricks.v1+cell": {
     "cellMetadata": {},
     "inputWidgets": {},
     "nuid": "c6f775cd-1845-4cf1-88ec-a8f658dbddcc",
     "showTitle": false,
     "title": ""
    }
   },
   "source": [
    "SETUP VARIABLES (Should be from parameters later)"
   ]
  },
  {
   "cell_type": "code",
   "execution_count": null,
   "metadata": {
    "application/vnd.databricks.v1+cell": {
     "cellMetadata": {
      "byteLimit": 2048000,
      "rowLimit": 10000
     },
     "inputWidgets": {},
     "nuid": "71efb855-c0b2-41b0-88a4-9fd70535ef6c",
     "showTitle": false,
     "title": ""
    }
   },
   "outputs": [],
   "source": [
    "KAFKA_TOPIC = \"my-orders\" # The topic to read from\n",
    "DELTA_TABLE =  \"s3://labdataset/delta/orders\"\n",
    "checkpointLocation = \"s3://labdataset/checkpoints/orders\"  #f\"{DELTA_TABLE}/_checkpoints\""
   ]
  },
  {
   "cell_type": "markdown",
   "metadata": {
    "application/vnd.databricks.v1+cell": {
     "cellMetadata": {},
     "inputWidgets": {},
     "nuid": "3ba16c75-ea66-490a-b926-b8f5779d34f2",
     "showTitle": false,
     "title": ""
    }
   },
   "source": [
    "Create our streaming class, this will always start reading the stream."
   ]
  },
  {
   "cell_type": "code",
   "execution_count": null,
   "metadata": {
    "application/vnd.databricks.v1+cell": {
     "cellMetadata": {
      "byteLimit": 2048000,
      "rowLimit": 10000
     },
     "inputWidgets": {},
     "nuid": "0762efe8-59fb-4c5f-97de-197f7f226c9e",
     "showTitle": false,
     "title": ""
    }
   },
   "outputs": [],
   "source": [
    "my_kafka_streaming = KafkaStreamLoader(KAFKA_TOPIC, DELTA_TABLE, checkpointLocation)"
   ]
  },
  {
   "cell_type": "code",
   "execution_count": null,
   "metadata": {
    "application/vnd.databricks.v1+cell": {
     "cellMetadata": {
      "byteLimit": 2048000,
      "rowLimit": 10000
     },
     "inputWidgets": {},
     "nuid": "39da90d2-3bbe-48d8-bdd3-e29d6105c783",
     "showTitle": false,
     "title": ""
    }
   },
   "outputs": [
    {
     "data": {
      "text/html": [
       "<style scoped>\n",
       "  .table-result-container {\n",
       "    max-height: 300px;\n",
       "    overflow: auto;\n",
       "  }\n",
       "  table, th, td {\n",
       "    border: 1px solid black;\n",
       "    border-collapse: collapse;\n",
       "  }\n",
       "  th, td {\n",
       "    padding: 5px;\n",
       "  }\n",
       "  th {\n",
       "    text-align: left;\n",
       "  }\n",
       "</style><div class='table-result-container'><table class='table-result'><thead style='background-color: white'><tr><th>topic</th><th>partition</th><th>offset</th><th>timestamp</th><th>timestampType</th><th>key</th><th>valueSchemaId</th><th>fixedValue</th></tr></thead><tbody><tr><td>my-orders</td><td>5</td><td>22339</td><td>2024-06-19T18:51:42.109Z</td><td>0</td><td>7cc432dd-1544-4121-8d4d-4bbfbb4e1dc5</td><td>100008</td><td>SDlkYTA3NDNiLTUyNDctNDg0Zi04M2I4LWMwMzM2ZGNkZTY5YSYyMDI0LTA2LTE5IDE1OjUxOjQxBDk2GjMyMSBNYXBsZSBBdmUAAAAAAKSfQAIIUDA0NBIAClZFTk1PDEZBSUxFRBJERUxJVkVSRUQ4VGVzdCBFdm9sdmUgU2M= (truncated)</td></tr><tr><td>my-orders</td><td>2</td><td>22296</td><td>2024-06-19T18:54:08.23Z</td><td>0</td><td>e296a609-3805-4893-baed-41fc6c968cb0</td><td>100008</td><td>SDUzMTBjYzY3LTc3M2UtNDczZi04ODUxLTIzY2I2ZTVkZjE3MyYyMDI0LTA2LTE5IDE1OjU0OjA3BDM5FDY3OCBFbG0gTG4AAAAAAKSQQAIIUDA3MAYAClZFTk1PCFBBSUQMUExBQ0VEOFRlc3QgRXZvbHZlIFNjaGVtYSBwdXI= (truncated)</td></tr></tbody></table></div>"
      ]
     },
     "metadata": {
      "application/vnd.databricks.v1+output": {
       "addedWidgets": {},
       "aggData": [],
       "aggError": "",
       "aggOverflow": false,
       "aggSchema": [],
       "aggSeriesLimitReached": false,
       "aggType": "",
       "arguments": {},
       "columnCustomDisplayInfos": {},
       "data": [
        [
         "my-orders",
         5,
         22339,
         "2024-06-19T18:51:42.109Z",
         0,
         "7cc432dd-1544-4121-8d4d-4bbfbb4e1dc5",
         "100008",
         "SDlkYTA3NDNiLTUyNDctNDg0Zi04M2I4LWMwMzM2ZGNkZTY5YSYyMDI0LTA2LTE5IDE1OjUxOjQxBDk2GjMyMSBNYXBsZSBBdmUAAAAAAKSfQAIIUDA0NBIAClZFTk1PDEZBSUxFRBJERUxJVkVSRUQ4VGVzdCBFdm9sdmUgU2M= (truncated)"
        ],
        [
         "my-orders",
         2,
         22296,
         "2024-06-19T18:54:08.23Z",
         0,
         "e296a609-3805-4893-baed-41fc6c968cb0",
         "100008",
         "SDUzMTBjYzY3LTc3M2UtNDczZi04ODUxLTIzY2I2ZTVkZjE3MyYyMDI0LTA2LTE5IDE1OjU0OjA3BDM5FDY3OCBFbG0gTG4AAAAAAKSQQAIIUDA3MAYAClZFTk1PCFBBSUQMUExBQ0VEOFRlc3QgRXZvbHZlIFNjaGVtYSBwdXI= (truncated)"
        ]
       ],
       "datasetInfos": [],
       "dbfsResultPath": null,
       "isJsonSchema": true,
       "metadata": {
        "isDbfsCommandResult": false
       },
       "overflow": false,
       "plotOptions": {
        "customPlotOptions": {},
        "displayType": "table",
        "pivotAggregation": null,
        "pivotColumns": null,
        "xColumns": null,
        "yColumns": null
       },
       "removedWidgets": [],
       "schema": [
        {
         "metadata": "{}",
         "name": "topic",
         "type": "\"string\""
        },
        {
         "metadata": "{}",
         "name": "partition",
         "type": "\"integer\""
        },
        {
         "metadata": "{}",
         "name": "offset",
         "type": "\"long\""
        },
        {
         "metadata": "{}",
         "name": "timestamp",
         "type": "\"timestamp\""
        },
        {
         "metadata": "{}",
         "name": "timestampType",
         "type": "\"integer\""
        },
        {
         "metadata": "{}",
         "name": "key",
         "type": "\"string\""
        },
        {
         "metadata": "{}",
         "name": "valueSchemaId",
         "type": "\"string\""
        },
        {
         "metadata": "{}",
         "name": "fixedValue",
         "type": "\"binary\""
        }
       ],
       "type": "table"
      }
     },
     "output_type": "display_data"
    }
   ],
   "source": [
    "display(my_kafka_streaming.streamingDf)"
   ]
  },
  {
   "cell_type": "markdown",
   "metadata": {
    "application/vnd.databricks.v1+cell": {
     "cellMetadata": {},
     "inputWidgets": {},
     "nuid": "4c5819cc-f2e0-4bdd-8757-0ec9648e7ab6",
     "showTitle": false,
     "title": ""
    }
   },
   "source": [
    "Write our stream."
   ]
  },
  {
   "cell_type": "code",
   "execution_count": null,
   "metadata": {
    "application/vnd.databricks.v1+cell": {
     "cellMetadata": {
      "byteLimit": 2048000,
      "rowLimit": 10000
     },
     "inputWidgets": {},
     "nuid": "4738307f-5ef5-4230-b698-a40d5ec92c7b",
     "showTitle": false,
     "title": ""
    }
   },
   "outputs": [],
   "source": [
    "my_kafka_streaming.write_stream(\"PrepareParsedStream\")"
   ]
  },
  {
   "cell_type": "code",
   "execution_count": null,
   "metadata": {
    "application/vnd.databricks.v1+cell": {
     "cellMetadata": {},
     "inputWidgets": {},
     "nuid": "2e5438c7-5574-41cb-ad18-311a0f869553",
     "showTitle": false,
     "title": ""
    }
   },
   "outputs": [],
   "source": []
  }
 ],
 "metadata": {
  "application/vnd.databricks.v1+notebook": {
   "dashboards": [],
   "environmentMetadata": null,
   "language": "python",
   "notebookMetadata": {
    "pythonIndentUnit": 4
   },
   "notebookName": "start_streaming",
   "widgets": {}
  },
  "kernelspec": {
   "display_name": "Python 3",
   "language": "python",
   "name": "python3"
  },
  "language_info": {
   "codemirror_mode": {
    "name": "ipython",
    "version": 3
   },
   "file_extension": ".py",
   "mimetype": "text/x-python",
   "name": "python",
   "nbconvert_exporter": "python",
   "pygments_lexer": "ipython3",
   "version": "3.8.10"
  }
 },
 "nbformat": 4,
 "nbformat_minor": 0
}
